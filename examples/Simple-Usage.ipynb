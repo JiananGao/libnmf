{
 "cells": [
  {
   "cell_type": "code",
   "execution_count": 1,
   "metadata": {
    "collapsed": false
   },
   "outputs": [],
   "source": [
    "import numpy as np\n",
    "X = np.random.random((10,10))\n"
   ]
  },
  {
   "cell_type": "markdown",
   "metadata": {},
   "source": [
    "### Classical NMF (Multiplicative Update Rule)"
   ]
  },
  {
   "cell_type": "code",
   "execution_count": 2,
   "metadata": {
    "collapsed": false
   },
   "outputs": [],
   "source": [
    "from libnmf.nmf import NMF\n",
    "\n",
    "\n",
    "nmf = NMF(X, rank=4)\n",
    "nmf.compute_factors(10)\n"
   ]
  },
  {
   "cell_type": "code",
   "execution_count": 3,
   "metadata": {
    "collapsed": false
   },
   "outputs": [
    {
     "name": "stdout",
     "output_type": "stream",
     "text": [
      "(10, 4) (4, 10)\n",
      "[ 2.65816186  2.53114818  2.43627482  2.35230537  2.27781581  2.21228646\n",
      "  2.15454432  2.10279306  2.0553931   2.01135363]\n"
     ]
    }
   ],
   "source": [
    "print nmf.W.shape, nmf.H.shape\n",
    "print nmf.frob_error"
   ]
  },
  {
   "cell_type": "markdown",
   "metadata": {},
   "source": [
    "### Graph Regularized NMF"
   ]
  },
  {
   "cell_type": "code",
   "execution_count": 4,
   "metadata": {
    "collapsed": true
   },
   "outputs": [],
   "source": [
    "from libnmf.gnmf import GNMF\n",
    "\n",
    "gnmf= GNMF(X, rank=4)\n",
    "gnmf.compute_factors(20, 0.3, 'heat-kernel', 0.4)"
   ]
  },
  {
   "cell_type": "code",
   "execution_count": 5,
   "metadata": {
    "collapsed": false
   },
   "outputs": [
    {
     "name": "stdout",
     "output_type": "stream",
     "text": [
      "(10, 4) (4, 10)\n",
      "[ 2.84766144  2.62985184  2.50393605  2.41381408  2.34153381  2.27694566\n",
      "  2.21549699  2.15691598  2.10294929  2.05490854  2.01264678  1.97512946\n",
      "  1.94133465  1.91067774  1.88298921  1.85830833  1.83667849  1.81802863\n",
      "  1.8021503   1.78873618]\n"
     ]
    }
   ],
   "source": [
    "print gnmf.W.shape, gnmf.H.shape\n",
    "print gnmf.frob_error"
   ]
  },
  {
   "cell_type": "markdown",
   "metadata": {},
   "source": [
    "### Alternating Least Squares NMF"
   ]
  },
  {
   "cell_type": "code",
   "execution_count": 6,
   "metadata": {
    "collapsed": false
   },
   "outputs": [],
   "source": [
    "from libnmf.alsnmf import ALSNMF\n",
    "\n",
    "alsnmf = ALSNMF(X, rank=4)\n",
    "alsnmf.compute_factors(20)\n"
   ]
  },
  {
   "cell_type": "code",
   "execution_count": 7,
   "metadata": {
    "collapsed": false
   },
   "outputs": [
    {
     "name": "stdout",
     "output_type": "stream",
     "text": [
      "(10, 4) (4, 10)\n",
      "[ 2.13997774  1.98242791  1.90149184  1.84746064  1.81329771  1.79449262\n",
      "  1.78563313  1.77618725  1.75248869  1.71565124  1.68527837  1.65529178\n",
      "  1.63202896  1.61748726  1.60750693  1.59978774  1.59387336  1.58962034\n",
      "  1.58673484  1.58466299]\n"
     ]
    }
   ],
   "source": [
    "print alsnmf.W.shape, alsnmf.H.shape\n",
    "print alsnmf.frob_error"
   ]
  },
  {
   "cell_type": "markdown",
   "metadata": {},
   "source": [
    "### Probabilistic NMF"
   ]
  },
  {
   "cell_type": "code",
   "execution_count": 8,
   "metadata": {
    "collapsed": false
   },
   "outputs": [],
   "source": [
    "from libnmf.pnmf import PNMF\n",
    "\n",
    "pnmf = PNMF(X, rank=4)\n",
    "pnmf.compute_factors(20, 0.3, 0.2)\n"
   ]
  },
  {
   "cell_type": "code",
   "execution_count": 9,
   "metadata": {
    "collapsed": false
   },
   "outputs": [
    {
     "name": "stdout",
     "output_type": "stream",
     "text": [
      "(10, 4) (4, 10)\n",
      "[ 2.91916813  2.78035534  2.70175186  2.63259014  2.56250176  2.48984342\n",
      "  2.41680642  2.3485172   2.29060062  2.24605744  2.21401854  2.1912908\n",
      "  2.17465239  2.16197274  2.1521935   2.14489705  2.13988852  2.13691821\n",
      "  2.13553663  2.13500943]\n"
     ]
    }
   ],
   "source": [
    "print pnmf.W.shape, pnmf.H.shape\n",
    "print pnmf.frob_error"
   ]
  },
  {
   "cell_type": "code",
   "execution_count": null,
   "metadata": {
    "collapsed": true
   },
   "outputs": [],
   "source": []
  }
 ],
 "metadata": {
  "kernelspec": {
   "display_name": "Python 2",
   "language": "python",
   "name": "python2"
  },
  "language_info": {
   "codemirror_mode": {
    "name": "ipython",
    "version": 2
   },
   "file_extension": ".py",
   "mimetype": "text/x-python",
   "name": "python",
   "nbconvert_exporter": "python",
   "pygments_lexer": "ipython2",
   "version": "2.7.10"
  }
 },
 "nbformat": 4,
 "nbformat_minor": 0
}
