{
 "cells": [
  {
   "cell_type": "code",
   "execution_count": 1,
   "metadata": {
    "collapsed": false
   },
   "outputs": [],
   "source": [
    "import numpy as np\n",
    "X = np.random.random((10,10))\n"
   ]
  },
  {
   "cell_type": "markdown",
   "metadata": {},
   "source": [
    "### Classical NMF (Multiplicative Update Rule)"
   ]
  },
  {
   "cell_type": "code",
   "execution_count": 2,
   "metadata": {
    "collapsed": false
   },
   "outputs": [],
   "source": [
    "from libnmf.nmf import NMF\n",
    "\n",
    "\n",
    "nmf = NMF(X, rank=4)\n",
    "nmf.compute_factors(10)\n"
   ]
  },
  {
   "cell_type": "code",
   "execution_count": 3,
   "metadata": {
    "collapsed": false
   },
   "outputs": [
    {
     "name": "stdout",
     "output_type": "stream",
     "text": [
      "(10, 4) (4, 10)\n",
      "[ 2.67875825  2.56017411  2.46989022  2.39325936  2.32661969  2.26763673\n",
      "  2.21493912  2.16796363  2.12655777  2.09052199]\n"
     ]
    }
   ],
   "source": [
    "print nmf.W.shape, nmf.H.shape\n",
    "print nmf.frob_error"
   ]
  },
  {
   "cell_type": "markdown",
   "metadata": {},
   "source": [
    "### Graph Regularized NMF"
   ]
  },
  {
   "cell_type": "code",
   "execution_count": 4,
   "metadata": {
    "collapsed": true
   },
   "outputs": [],
   "source": [
    "from libnmf.gnmf import GNMF\n",
    "\n",
    "gnmf= GNMF(X, rank=4)\n",
    "gnmf.compute_factors(20, 0.3, 'heat-kernel', 0.4)"
   ]
  },
  {
   "cell_type": "code",
   "execution_count": 5,
   "metadata": {
    "collapsed": false
   },
   "outputs": [
    {
     "name": "stdout",
     "output_type": "stream",
     "text": [
      "(10, 4) (4, 10)\n",
      "[ 2.69043073  2.53653322  2.43541254  2.34411797  2.26460573  2.20022371\n",
      "  2.15114629  2.11475599  2.08765523  2.0669453   2.05053787  2.03702941\n",
      "  2.02549199  2.01530269  2.00602904  1.99735839  1.98905603  1.98094103\n",
      "  1.97287266  1.96474302]\n"
     ]
    }
   ],
   "source": [
    "print gnmf.W.shape, gnmf.H.shape\n",
    "print gnmf.frob_error"
   ]
  },
  {
   "cell_type": "markdown",
   "metadata": {},
   "source": [
    "### First-order Primal-Dual Algo for NMF"
   ]
  },
  {
   "cell_type": "code",
   "execution_count": 6,
   "metadata": {
    "collapsed": true
   },
   "outputs": [],
   "source": [
    "from libnmf.fpdnmf import FPDNMF\n",
    "\n",
    "fpdnmf= FPDNMF(X, rank=4)\n",
    "fpdnmf.compute_factors(max_iter=30, nditer=5)\n"
   ]
  },
  {
   "cell_type": "code",
   "execution_count": 7,
   "metadata": {
    "collapsed": false
   },
   "outputs": [
    {
     "name": "stdout",
     "output_type": "stream",
     "text": [
      "(10, 4) (4, 10)\n",
      "[ 1.8732198   1.48733369  1.06562005  0.8855369   0.84309262  0.82421472\n",
      "  0.80169988  0.79223389  0.78623986  0.78196843  0.7783273   0.77511633\n",
      "  0.77146641  0.76793084  0.76410372  0.75965792  0.7545391   0.74888615\n",
      "  0.74297444  0.73722608  0.73210623  0.72747017  0.72157562  0.71536247\n",
      "  0.70930222  0.70460564  0.70079361  0.69760451  0.69502778  0.69289996]\n"
     ]
    }
   ],
   "source": [
    "print fpdnmf.W.shape, fpdnmf.H.shape\n",
    "print fpdnmf.div_error"
   ]
  },
  {
   "cell_type": "markdown",
   "metadata": {},
   "source": [
    "### Alternating Least Squares NMF"
   ]
  },
  {
   "cell_type": "code",
   "execution_count": 8,
   "metadata": {
    "collapsed": false
   },
   "outputs": [],
   "source": [
    "from libnmf.alsnmf import ALSNMF\n",
    "\n",
    "alsnmf = ALSNMF(X, rank=4)\n",
    "alsnmf.compute_factors(20)\n"
   ]
  },
  {
   "cell_type": "code",
   "execution_count": 9,
   "metadata": {
    "collapsed": false
   },
   "outputs": [
    {
     "name": "stdout",
     "output_type": "stream",
     "text": [
      "(10, 4) (4, 10)\n",
      "[ 2.38981939  2.1122609   1.95020197  1.79489147  1.72181482  1.70114248\n",
      "  1.69324436  1.68893171  1.68517145  1.68157813  1.67790996  1.67427731\n",
      "  1.6709191   1.66804831  1.66584231  1.66456596  1.66396045  1.66369678\n",
      "  1.66356904  1.66350083]\n"
     ]
    }
   ],
   "source": [
    "print alsnmf.W.shape, alsnmf.H.shape\n",
    "print alsnmf.frob_error"
   ]
  },
  {
   "cell_type": "markdown",
   "metadata": {},
   "source": [
    "### Probabilistic NMF"
   ]
  },
  {
   "cell_type": "code",
   "execution_count": 10,
   "metadata": {
    "collapsed": false
   },
   "outputs": [],
   "source": [
    "from libnmf.pnmf import PNMF\n",
    "\n",
    "pnmf = PNMF(X, rank=4)\n",
    "pnmf.compute_factors(20, 0.3, 0.2)\n"
   ]
  },
  {
   "cell_type": "code",
   "execution_count": 11,
   "metadata": {
    "collapsed": false
   },
   "outputs": [
    {
     "name": "stdout",
     "output_type": "stream",
     "text": [
      "(10, 4) (4, 10)\n",
      "[ 2.906903    2.78035603  2.67440571  2.57705409  2.49313229  2.42445874\n",
      "  2.36927423  2.32501976  2.28939006  2.26037291  2.23625878  2.21564916\n",
      "  2.19743668  2.18078449  2.16510657  2.15003822  2.13539281  2.12110888\n",
      "  2.10719567  2.09368737]\n"
     ]
    }
   ],
   "source": [
    "print pnmf.W.shape, pnmf.H.shape\n",
    "print pnmf.frob_error"
   ]
  },
  {
   "cell_type": "code",
   "execution_count": null,
   "metadata": {
    "collapsed": true
   },
   "outputs": [],
   "source": []
  }
 ],
 "metadata": {
  "kernelspec": {
   "display_name": "Python 2",
   "language": "python",
   "name": "python2"
  },
  "language_info": {
   "codemirror_mode": {
    "name": "ipython",
    "version": 2
   },
   "file_extension": ".py",
   "mimetype": "text/x-python",
   "name": "python",
   "nbconvert_exporter": "python",
   "pygments_lexer": "ipython2",
   "version": "2.7.10"
  }
 },
 "nbformat": 4,
 "nbformat_minor": 0
}
